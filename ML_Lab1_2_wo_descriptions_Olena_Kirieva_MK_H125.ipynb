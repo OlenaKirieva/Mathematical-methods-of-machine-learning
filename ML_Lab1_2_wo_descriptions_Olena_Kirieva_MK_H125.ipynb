{
  "cells": [
    {
      "cell_type": "markdown",
      "metadata": {
        "id": "RWktF0Dlt5et"
      },
      "source": [
        "# Regression Week 2: Multiple Regression (gradient descent)"
      ]
    },
    {
      "cell_type": "markdown",
      "metadata": {
        "id": "brYZEcIit5e6"
      },
      "source": [
        "Now we will use pandas along with numpy to solve for the regression weights with gradient descent.\n",
        "\n",
        "In this notebook we will cover estimating multiple regression weights via gradient descent. You will:\n",
        "* Add a constant column of 1's to a pandas DataFrame to account for the intercept\n",
        "* Convert an DataFrame into a Numpy array\n",
        "* Write a predict_output() function using Numpy\n",
        "* Write a numpy function to compute the derivative of the regression weights with respect to a single feature\n",
        "* Write gradient descent function to compute the regression weights given an initial weight vector, step size and tolerance.\n",
        "* Use the gradient descent function to estimate regression weights for multiple features"
      ]
    },
    {
      "cell_type": "markdown",
      "metadata": {
        "id": "qBe5S1Bht5fA"
      },
      "source": [
        "# Fire up pandas"
      ]
    },
    {
      "cell_type": "markdown",
      "source": [
        "оригінал завдання https://colab.research.google.com/drive/1kDybaoty43wVuxVcRR__KlmzLqYz_hhI?authuser=1#scrollTo=N8pIGlFdt5fB"
      ],
      "metadata": {
        "id": "0JREZEtf0uGX"
      }
    },
    {
      "cell_type": "code",
      "execution_count": 1,
      "metadata": {
        "id": "N8pIGlFdt5fB"
      },
      "outputs": [],
      "source": [
        "import pandas as pd"
      ]
    },
    {
      "cell_type": "markdown",
      "metadata": {
        "id": "31h5wVMet5fG"
      },
      "source": [
        "# Load in house sales data\n",
        "\n",
        "Dataset is from house sales in King County, the region where the city of Seattle, WA is located."
      ]
    },
    {
      "cell_type": "code",
      "execution_count": 2,
      "metadata": {
        "id": "Qo8naGkNt5fH"
      },
      "outputs": [],
      "source": [
        "path = 'https://raw.githubusercontent.com/OlenaKirieva/Mathematical-methods-of-machine-learning/refs/heads/main/Datasets/kc_house_data%201.csv'\n",
        "sales = pd.DataFrame(pd.read_csv(path))"
      ]
    },
    {
      "cell_type": "markdown",
      "metadata": {
        "id": "WNfc0OMlt5fI"
      },
      "source": [
        "If we want to do any \"feature engineering\" like creating new features or adjusting existing ones we should do this directly using the DataFrames as seen in the practice. For this notebook, however, we will work with the existing features."
      ]
    },
    {
      "cell_type": "markdown",
      "metadata": {
        "id": "lcPrR7VTt5fK"
      },
      "source": [
        "# Convert to Numpy Array"
      ]
    },
    {
      "cell_type": "markdown",
      "metadata": {
        "id": "B04ldMPDt5fN"
      },
      "source": [
        "Although DataFrame offer a number of benefits to users in order to understand the details of the implementation of algorithms it's important to work with a library that allows for direct (and optimized) matrix operations. Numpy is a Python solution to work with matrices (or any multi-dimensional \"array\").\n",
        "\n",
        "Recall that the predicted value given the weights and the features is just the dot product between the feature and weight vector. Similarly, if we put all of the features row-by-row in a matrix then the predicted value for *all* the observations can be computed by right multiplying the \"feature matrix\" by the \"weight vector\".\n",
        "\n",
        "First we need to take the DataFrame of our data and convert it into a 2D numpy array (also called a matrix). We can  use Panda's .as_matrix() to convert the dataframe into a numpy matrix."
      ]
    },
    {
      "cell_type": "code",
      "source": [
        "sales_matrix = sales.to_numpy()\n",
        "type(sales_matrix)"
      ],
      "metadata": {
        "colab": {
          "base_uri": "https://localhost:8080/"
        },
        "id": "6FIY62ieCU2m",
        "outputId": "f2ea0fc1-3c6b-42ba-8bbe-88501d74aeab"
      },
      "execution_count": 3,
      "outputs": [
        {
          "output_type": "execute_result",
          "data": {
            "text/plain": [
              "numpy.ndarray"
            ]
          },
          "metadata": {},
          "execution_count": 3
        }
      ]
    },
    {
      "cell_type": "code",
      "execution_count": 4,
      "metadata": {
        "collapsed": true,
        "id": "LEgzI4bmt5fP"
      },
      "outputs": [],
      "source": [
        "import numpy as np"
      ]
    },
    {
      "cell_type": "markdown",
      "metadata": {
        "id": "PM53VIG8t5fQ"
      },
      "source": [
        "Now we will write a function that will accept an DataFrame, a list of feature names (e.g. ['sqft_living', 'bedrooms']) and an target feature e.g. ('price') and will return two things:\n",
        "* A numpy matrix whose columns are the desired features plus a constant column (this is how we create an 'intercept')\n",
        "* A numpy array containing the values of the output\n",
        "\n",
        "With this in mind, complete the following function (where there's an empty line you should write a line of code that does what the comment above indicates)"
      ]
    },
    {
      "cell_type": "code",
      "execution_count": 5,
      "metadata": {
        "id": "w75b5Fibt5fR"
      },
      "outputs": [],
      "source": [
        "def get_numpy_data(dataframe, features, output):\n",
        "\n",
        "    #add constant column into dataset\n",
        "    dataframe['constant'] = 1\n",
        "\n",
        "    #add constant column into features list\n",
        "    features =  ['constant'] + features\n",
        "\n",
        "    #create feature_matrix and output_array\n",
        "    feature_matrix = dataframe[features].to_numpy()\n",
        "    output_array = dataframe[output].to_numpy()\n",
        "\n",
        "    return(feature_matrix, output_array)"
      ]
    },
    {
      "cell_type": "markdown",
      "metadata": {
        "id": "P1ZW9o1It5fT"
      },
      "source": [
        "For testing let's use the 'sqft_living' feature and a constant as our features and price as our output:"
      ]
    },
    {
      "cell_type": "code",
      "execution_count": 6,
      "metadata": {
        "id": "UBsCXfiPt5fU",
        "outputId": "c4e921aa-37fa-45f6-95aa-d9b80e1e93b1",
        "colab": {
          "base_uri": "https://localhost:8080/"
        }
      },
      "outputs": [
        {
          "output_type": "stream",
          "name": "stdout",
          "text": [
            "[   1 1180]\n",
            "221900.0\n"
          ]
        }
      ],
      "source": [
        "(example_features, example_output) = get_numpy_data(sales, ['sqft_living'], 'price') # the [] around 'sqft_living' makes it a list\n",
        "print(example_features[0,:]) # this accesses the first row of the data the ':' indicates 'all columns'\n",
        "print(example_output[0]) # and the corresponding output"
      ]
    },
    {
      "cell_type": "code",
      "source": [
        "example_features"
      ],
      "metadata": {
        "colab": {
          "base_uri": "https://localhost:8080/"
        },
        "id": "bLP_an7nEwct",
        "outputId": "fcd7aef2-7d76-4eb3-9513-c11d068e588f"
      },
      "execution_count": 7,
      "outputs": [
        {
          "output_type": "execute_result",
          "data": {
            "text/plain": [
              "array([[   1, 1180],\n",
              "       [   1, 2570],\n",
              "       [   1,  770],\n",
              "       ...,\n",
              "       [   1, 1020],\n",
              "       [   1, 1600],\n",
              "       [   1, 1020]])"
            ]
          },
          "metadata": {},
          "execution_count": 7
        }
      ]
    },
    {
      "cell_type": "code",
      "source": [
        "example_output"
      ],
      "metadata": {
        "colab": {
          "base_uri": "https://localhost:8080/"
        },
        "id": "6KUMmcElHviD",
        "outputId": "b70ad0df-59e1-4c98-ff93-d925d1a144a4"
      },
      "execution_count": 8,
      "outputs": [
        {
          "output_type": "execute_result",
          "data": {
            "text/plain": [
              "array([221900., 538000., 180000., ..., 402101., 400000., 325000.])"
            ]
          },
          "metadata": {},
          "execution_count": 8
        }
      ]
    },
    {
      "cell_type": "code",
      "source": [
        "sales.head()"
      ],
      "metadata": {
        "colab": {
          "base_uri": "https://localhost:8080/",
          "height": 256
        },
        "id": "5oUwK9CSI3-R",
        "outputId": "1b2028dc-3a54-436a-978f-3e7b042c7b22"
      },
      "execution_count": 9,
      "outputs": [
        {
          "output_type": "execute_result",
          "data": {
            "text/plain": [
              "           id             date     price  bedrooms  bathrooms  sqft_living  \\\n",
              "0  7129300520  20141013T000000  221900.0         3       1.00         1180   \n",
              "1  6414100192  20141209T000000  538000.0         3       2.25         2570   \n",
              "2  5631500400  20150225T000000  180000.0         2       1.00          770   \n",
              "3  2487200875  20141209T000000  604000.0         4       3.00         1960   \n",
              "4  1954400510  20150218T000000  510000.0         3       2.00         1680   \n",
              "\n",
              "   sqft_lot  floors  waterfront  view  ...  sqft_above  sqft_basement  \\\n",
              "0      5650     1.0           0     0  ...        1180              0   \n",
              "1      7242     2.0           0     0  ...        2170            400   \n",
              "2     10000     1.0           0     0  ...         770              0   \n",
              "3      5000     1.0           0     0  ...        1050            910   \n",
              "4      8080     1.0           0     0  ...        1680              0   \n",
              "\n",
              "   yr_built  yr_renovated  zipcode      lat     long  sqft_living15  \\\n",
              "0      1955             0    98178  47.5112 -122.257           1340   \n",
              "1      1951          1991    98125  47.7210 -122.319           1690   \n",
              "2      1933             0    98028  47.7379 -122.233           2720   \n",
              "3      1965             0    98136  47.5208 -122.393           1360   \n",
              "4      1987             0    98074  47.6168 -122.045           1800   \n",
              "\n",
              "   sqft_lot15  constant  \n",
              "0        5650         1  \n",
              "1        7639         1  \n",
              "2        8062         1  \n",
              "3        5000         1  \n",
              "4        7503         1  \n",
              "\n",
              "[5 rows x 22 columns]"
            ],
            "text/html": [
              "\n",
              "  <div id=\"df-fa08a094-8fde-4d24-b076-427d3f2530d6\" class=\"colab-df-container\">\n",
              "    <div>\n",
              "<style scoped>\n",
              "    .dataframe tbody tr th:only-of-type {\n",
              "        vertical-align: middle;\n",
              "    }\n",
              "\n",
              "    .dataframe tbody tr th {\n",
              "        vertical-align: top;\n",
              "    }\n",
              "\n",
              "    .dataframe thead th {\n",
              "        text-align: right;\n",
              "    }\n",
              "</style>\n",
              "<table border=\"1\" class=\"dataframe\">\n",
              "  <thead>\n",
              "    <tr style=\"text-align: right;\">\n",
              "      <th></th>\n",
              "      <th>id</th>\n",
              "      <th>date</th>\n",
              "      <th>price</th>\n",
              "      <th>bedrooms</th>\n",
              "      <th>bathrooms</th>\n",
              "      <th>sqft_living</th>\n",
              "      <th>sqft_lot</th>\n",
              "      <th>floors</th>\n",
              "      <th>waterfront</th>\n",
              "      <th>view</th>\n",
              "      <th>...</th>\n",
              "      <th>sqft_above</th>\n",
              "      <th>sqft_basement</th>\n",
              "      <th>yr_built</th>\n",
              "      <th>yr_renovated</th>\n",
              "      <th>zipcode</th>\n",
              "      <th>lat</th>\n",
              "      <th>long</th>\n",
              "      <th>sqft_living15</th>\n",
              "      <th>sqft_lot15</th>\n",
              "      <th>constant</th>\n",
              "    </tr>\n",
              "  </thead>\n",
              "  <tbody>\n",
              "    <tr>\n",
              "      <th>0</th>\n",
              "      <td>7129300520</td>\n",
              "      <td>20141013T000000</td>\n",
              "      <td>221900.0</td>\n",
              "      <td>3</td>\n",
              "      <td>1.00</td>\n",
              "      <td>1180</td>\n",
              "      <td>5650</td>\n",
              "      <td>1.0</td>\n",
              "      <td>0</td>\n",
              "      <td>0</td>\n",
              "      <td>...</td>\n",
              "      <td>1180</td>\n",
              "      <td>0</td>\n",
              "      <td>1955</td>\n",
              "      <td>0</td>\n",
              "      <td>98178</td>\n",
              "      <td>47.5112</td>\n",
              "      <td>-122.257</td>\n",
              "      <td>1340</td>\n",
              "      <td>5650</td>\n",
              "      <td>1</td>\n",
              "    </tr>\n",
              "    <tr>\n",
              "      <th>1</th>\n",
              "      <td>6414100192</td>\n",
              "      <td>20141209T000000</td>\n",
              "      <td>538000.0</td>\n",
              "      <td>3</td>\n",
              "      <td>2.25</td>\n",
              "      <td>2570</td>\n",
              "      <td>7242</td>\n",
              "      <td>2.0</td>\n",
              "      <td>0</td>\n",
              "      <td>0</td>\n",
              "      <td>...</td>\n",
              "      <td>2170</td>\n",
              "      <td>400</td>\n",
              "      <td>1951</td>\n",
              "      <td>1991</td>\n",
              "      <td>98125</td>\n",
              "      <td>47.7210</td>\n",
              "      <td>-122.319</td>\n",
              "      <td>1690</td>\n",
              "      <td>7639</td>\n",
              "      <td>1</td>\n",
              "    </tr>\n",
              "    <tr>\n",
              "      <th>2</th>\n",
              "      <td>5631500400</td>\n",
              "      <td>20150225T000000</td>\n",
              "      <td>180000.0</td>\n",
              "      <td>2</td>\n",
              "      <td>1.00</td>\n",
              "      <td>770</td>\n",
              "      <td>10000</td>\n",
              "      <td>1.0</td>\n",
              "      <td>0</td>\n",
              "      <td>0</td>\n",
              "      <td>...</td>\n",
              "      <td>770</td>\n",
              "      <td>0</td>\n",
              "      <td>1933</td>\n",
              "      <td>0</td>\n",
              "      <td>98028</td>\n",
              "      <td>47.7379</td>\n",
              "      <td>-122.233</td>\n",
              "      <td>2720</td>\n",
              "      <td>8062</td>\n",
              "      <td>1</td>\n",
              "    </tr>\n",
              "    <tr>\n",
              "      <th>3</th>\n",
              "      <td>2487200875</td>\n",
              "      <td>20141209T000000</td>\n",
              "      <td>604000.0</td>\n",
              "      <td>4</td>\n",
              "      <td>3.00</td>\n",
              "      <td>1960</td>\n",
              "      <td>5000</td>\n",
              "      <td>1.0</td>\n",
              "      <td>0</td>\n",
              "      <td>0</td>\n",
              "      <td>...</td>\n",
              "      <td>1050</td>\n",
              "      <td>910</td>\n",
              "      <td>1965</td>\n",
              "      <td>0</td>\n",
              "      <td>98136</td>\n",
              "      <td>47.5208</td>\n",
              "      <td>-122.393</td>\n",
              "      <td>1360</td>\n",
              "      <td>5000</td>\n",
              "      <td>1</td>\n",
              "    </tr>\n",
              "    <tr>\n",
              "      <th>4</th>\n",
              "      <td>1954400510</td>\n",
              "      <td>20150218T000000</td>\n",
              "      <td>510000.0</td>\n",
              "      <td>3</td>\n",
              "      <td>2.00</td>\n",
              "      <td>1680</td>\n",
              "      <td>8080</td>\n",
              "      <td>1.0</td>\n",
              "      <td>0</td>\n",
              "      <td>0</td>\n",
              "      <td>...</td>\n",
              "      <td>1680</td>\n",
              "      <td>0</td>\n",
              "      <td>1987</td>\n",
              "      <td>0</td>\n",
              "      <td>98074</td>\n",
              "      <td>47.6168</td>\n",
              "      <td>-122.045</td>\n",
              "      <td>1800</td>\n",
              "      <td>7503</td>\n",
              "      <td>1</td>\n",
              "    </tr>\n",
              "  </tbody>\n",
              "</table>\n",
              "<p>5 rows × 22 columns</p>\n",
              "</div>\n",
              "    <div class=\"colab-df-buttons\">\n",
              "\n",
              "  <div class=\"colab-df-container\">\n",
              "    <button class=\"colab-df-convert\" onclick=\"convertToInteractive('df-fa08a094-8fde-4d24-b076-427d3f2530d6')\"\n",
              "            title=\"Convert this dataframe to an interactive table.\"\n",
              "            style=\"display:none;\">\n",
              "\n",
              "  <svg xmlns=\"http://www.w3.org/2000/svg\" height=\"24px\" viewBox=\"0 -960 960 960\">\n",
              "    <path d=\"M120-120v-720h720v720H120Zm60-500h600v-160H180v160Zm220 220h160v-160H400v160Zm0 220h160v-160H400v160ZM180-400h160v-160H180v160Zm440 0h160v-160H620v160ZM180-180h160v-160H180v160Zm440 0h160v-160H620v160Z\"/>\n",
              "  </svg>\n",
              "    </button>\n",
              "\n",
              "  <style>\n",
              "    .colab-df-container {\n",
              "      display:flex;\n",
              "      gap: 12px;\n",
              "    }\n",
              "\n",
              "    .colab-df-convert {\n",
              "      background-color: #E8F0FE;\n",
              "      border: none;\n",
              "      border-radius: 50%;\n",
              "      cursor: pointer;\n",
              "      display: none;\n",
              "      fill: #1967D2;\n",
              "      height: 32px;\n",
              "      padding: 0 0 0 0;\n",
              "      width: 32px;\n",
              "    }\n",
              "\n",
              "    .colab-df-convert:hover {\n",
              "      background-color: #E2EBFA;\n",
              "      box-shadow: 0px 1px 2px rgba(60, 64, 67, 0.3), 0px 1px 3px 1px rgba(60, 64, 67, 0.15);\n",
              "      fill: #174EA6;\n",
              "    }\n",
              "\n",
              "    .colab-df-buttons div {\n",
              "      margin-bottom: 4px;\n",
              "    }\n",
              "\n",
              "    [theme=dark] .colab-df-convert {\n",
              "      background-color: #3B4455;\n",
              "      fill: #D2E3FC;\n",
              "    }\n",
              "\n",
              "    [theme=dark] .colab-df-convert:hover {\n",
              "      background-color: #434B5C;\n",
              "      box-shadow: 0px 1px 3px 1px rgba(0, 0, 0, 0.15);\n",
              "      filter: drop-shadow(0px 1px 2px rgba(0, 0, 0, 0.3));\n",
              "      fill: #FFFFFF;\n",
              "    }\n",
              "  </style>\n",
              "\n",
              "    <script>\n",
              "      const buttonEl =\n",
              "        document.querySelector('#df-fa08a094-8fde-4d24-b076-427d3f2530d6 button.colab-df-convert');\n",
              "      buttonEl.style.display =\n",
              "        google.colab.kernel.accessAllowed ? 'block' : 'none';\n",
              "\n",
              "      async function convertToInteractive(key) {\n",
              "        const element = document.querySelector('#df-fa08a094-8fde-4d24-b076-427d3f2530d6');\n",
              "        const dataTable =\n",
              "          await google.colab.kernel.invokeFunction('convertToInteractive',\n",
              "                                                    [key], {});\n",
              "        if (!dataTable) return;\n",
              "\n",
              "        const docLinkHtml = 'Like what you see? Visit the ' +\n",
              "          '<a target=\"_blank\" href=https://colab.research.google.com/notebooks/data_table.ipynb>data table notebook</a>'\n",
              "          + ' to learn more about interactive tables.';\n",
              "        element.innerHTML = '';\n",
              "        dataTable['output_type'] = 'display_data';\n",
              "        await google.colab.output.renderOutput(dataTable, element);\n",
              "        const docLink = document.createElement('div');\n",
              "        docLink.innerHTML = docLinkHtml;\n",
              "        element.appendChild(docLink);\n",
              "      }\n",
              "    </script>\n",
              "  </div>\n",
              "\n",
              "\n",
              "    <div id=\"df-f7979409-b7a0-41aa-bb96-e40c19bfec87\">\n",
              "      <button class=\"colab-df-quickchart\" onclick=\"quickchart('df-f7979409-b7a0-41aa-bb96-e40c19bfec87')\"\n",
              "                title=\"Suggest charts\"\n",
              "                style=\"display:none;\">\n",
              "\n",
              "<svg xmlns=\"http://www.w3.org/2000/svg\" height=\"24px\"viewBox=\"0 0 24 24\"\n",
              "     width=\"24px\">\n",
              "    <g>\n",
              "        <path d=\"M19 3H5c-1.1 0-2 .9-2 2v14c0 1.1.9 2 2 2h14c1.1 0 2-.9 2-2V5c0-1.1-.9-2-2-2zM9 17H7v-7h2v7zm4 0h-2V7h2v10zm4 0h-2v-4h2v4z\"/>\n",
              "    </g>\n",
              "</svg>\n",
              "      </button>\n",
              "\n",
              "<style>\n",
              "  .colab-df-quickchart {\n",
              "      --bg-color: #E8F0FE;\n",
              "      --fill-color: #1967D2;\n",
              "      --hover-bg-color: #E2EBFA;\n",
              "      --hover-fill-color: #174EA6;\n",
              "      --disabled-fill-color: #AAA;\n",
              "      --disabled-bg-color: #DDD;\n",
              "  }\n",
              "\n",
              "  [theme=dark] .colab-df-quickchart {\n",
              "      --bg-color: #3B4455;\n",
              "      --fill-color: #D2E3FC;\n",
              "      --hover-bg-color: #434B5C;\n",
              "      --hover-fill-color: #FFFFFF;\n",
              "      --disabled-bg-color: #3B4455;\n",
              "      --disabled-fill-color: #666;\n",
              "  }\n",
              "\n",
              "  .colab-df-quickchart {\n",
              "    background-color: var(--bg-color);\n",
              "    border: none;\n",
              "    border-radius: 50%;\n",
              "    cursor: pointer;\n",
              "    display: none;\n",
              "    fill: var(--fill-color);\n",
              "    height: 32px;\n",
              "    padding: 0;\n",
              "    width: 32px;\n",
              "  }\n",
              "\n",
              "  .colab-df-quickchart:hover {\n",
              "    background-color: var(--hover-bg-color);\n",
              "    box-shadow: 0 1px 2px rgba(60, 64, 67, 0.3), 0 1px 3px 1px rgba(60, 64, 67, 0.15);\n",
              "    fill: var(--button-hover-fill-color);\n",
              "  }\n",
              "\n",
              "  .colab-df-quickchart-complete:disabled,\n",
              "  .colab-df-quickchart-complete:disabled:hover {\n",
              "    background-color: var(--disabled-bg-color);\n",
              "    fill: var(--disabled-fill-color);\n",
              "    box-shadow: none;\n",
              "  }\n",
              "\n",
              "  .colab-df-spinner {\n",
              "    border: 2px solid var(--fill-color);\n",
              "    border-color: transparent;\n",
              "    border-bottom-color: var(--fill-color);\n",
              "    animation:\n",
              "      spin 1s steps(1) infinite;\n",
              "  }\n",
              "\n",
              "  @keyframes spin {\n",
              "    0% {\n",
              "      border-color: transparent;\n",
              "      border-bottom-color: var(--fill-color);\n",
              "      border-left-color: var(--fill-color);\n",
              "    }\n",
              "    20% {\n",
              "      border-color: transparent;\n",
              "      border-left-color: var(--fill-color);\n",
              "      border-top-color: var(--fill-color);\n",
              "    }\n",
              "    30% {\n",
              "      border-color: transparent;\n",
              "      border-left-color: var(--fill-color);\n",
              "      border-top-color: var(--fill-color);\n",
              "      border-right-color: var(--fill-color);\n",
              "    }\n",
              "    40% {\n",
              "      border-color: transparent;\n",
              "      border-right-color: var(--fill-color);\n",
              "      border-top-color: var(--fill-color);\n",
              "    }\n",
              "    60% {\n",
              "      border-color: transparent;\n",
              "      border-right-color: var(--fill-color);\n",
              "    }\n",
              "    80% {\n",
              "      border-color: transparent;\n",
              "      border-right-color: var(--fill-color);\n",
              "      border-bottom-color: var(--fill-color);\n",
              "    }\n",
              "    90% {\n",
              "      border-color: transparent;\n",
              "      border-bottom-color: var(--fill-color);\n",
              "    }\n",
              "  }\n",
              "</style>\n",
              "\n",
              "      <script>\n",
              "        async function quickchart(key) {\n",
              "          const quickchartButtonEl =\n",
              "            document.querySelector('#' + key + ' button');\n",
              "          quickchartButtonEl.disabled = true;  // To prevent multiple clicks.\n",
              "          quickchartButtonEl.classList.add('colab-df-spinner');\n",
              "          try {\n",
              "            const charts = await google.colab.kernel.invokeFunction(\n",
              "                'suggestCharts', [key], {});\n",
              "          } catch (error) {\n",
              "            console.error('Error during call to suggestCharts:', error);\n",
              "          }\n",
              "          quickchartButtonEl.classList.remove('colab-df-spinner');\n",
              "          quickchartButtonEl.classList.add('colab-df-quickchart-complete');\n",
              "        }\n",
              "        (() => {\n",
              "          let quickchartButtonEl =\n",
              "            document.querySelector('#df-f7979409-b7a0-41aa-bb96-e40c19bfec87 button');\n",
              "          quickchartButtonEl.style.display =\n",
              "            google.colab.kernel.accessAllowed ? 'block' : 'none';\n",
              "        })();\n",
              "      </script>\n",
              "    </div>\n",
              "    </div>\n",
              "  </div>\n"
            ],
            "application/vnd.google.colaboratory.intrinsic+json": {
              "type": "dataframe",
              "variable_name": "sales"
            }
          },
          "metadata": {},
          "execution_count": 9
        }
      ]
    },
    {
      "cell_type": "markdown",
      "metadata": {
        "id": "5SYfZyhIt5fW"
      },
      "source": [
        "# Predicting output given regression weights"
      ]
    },
    {
      "cell_type": "markdown",
      "metadata": {
        "id": "ZkW6XBGst5fX"
      },
      "source": [
        "Suppose we had the weights [1.0, 1.0] and the features [1.0, 1180.0] and we wanted to compute the predicted output 1.0\\*1.0 + 1.0\\*1180.0 = 1181.0 this is the dot product between these two arrays. If they're numpy arrayws we can use np.dot() to compute this:"
      ]
    },
    {
      "cell_type": "code",
      "execution_count": 10,
      "metadata": {
        "id": "bgE7yk83t5fX",
        "outputId": "dd7b58ac-8d5f-46e2-c1e0-752e21f31a4c",
        "colab": {
          "base_uri": "https://localhost:8080/"
        }
      },
      "outputs": [
        {
          "output_type": "stream",
          "name": "stdout",
          "text": [
            "1181.0\n"
          ]
        }
      ],
      "source": [
        "my_weights = np.array([1., 1.]) # the example weights\n",
        "my_features = example_features[0,] # we'll use the first data point\n",
        "predicted_value = np.dot(my_features, my_weights)\n",
        "print(predicted_value)"
      ]
    },
    {
      "cell_type": "markdown",
      "metadata": {
        "id": "P3ArzZRJt5fY"
      },
      "source": [
        "np.dot() also works when dealing with a matrix and a vector. Recall that the predictions from all the observations is just the RIGHT (as in weights on the right) dot product between the features *matrix* and the weights *vector*. With this in mind finish the following predict_output function to compute the predictions for an entire matrix of features given the matrix and the weights:"
      ]
    },
    {
      "cell_type": "code",
      "execution_count": 11,
      "metadata": {
        "collapsed": true,
        "id": "JdJ8MYk-t5fZ"
      },
      "outputs": [],
      "source": [
        "def predict_output(feature_matrix, weights):\n",
        "    predictions = np.dot(feature_matrix, weights)\n",
        "    return(predictions)"
      ]
    },
    {
      "cell_type": "markdown",
      "metadata": {
        "id": "X5l1hdjEt5fa"
      },
      "source": [
        "If you want to test your code run the following cell:"
      ]
    },
    {
      "cell_type": "code",
      "execution_count": 12,
      "metadata": {
        "id": "YJE-K2Pwt5fa",
        "colab": {
          "base_uri": "https://localhost:8080/"
        },
        "outputId": "3f8d7bc8-98e7-4694-ee9d-b8aeede012bf"
      },
      "outputs": [
        {
          "output_type": "stream",
          "name": "stdout",
          "text": [
            "1181.0\n",
            "2571.0\n"
          ]
        }
      ],
      "source": [
        "test_predictions = predict_output(example_features, my_weights)\n",
        "print(test_predictions[0]) # should be 1181.0\n",
        "print(test_predictions[1]) # should be 2571.0"
      ]
    },
    {
      "cell_type": "markdown",
      "metadata": {
        "id": "wabhXo1yt5fb"
      },
      "source": [
        "# Computing the Derivative"
      ]
    },
    {
      "cell_type": "markdown",
      "metadata": {
        "id": "o8LlCPi_t5fc"
      },
      "source": [
        "We are now going to move to computing the derivative of the regression cost function. Recall that the cost function is the sum over the data points of the squared difference between an observed output and a predicted output.\n",
        "\n",
        "Since the derivative of a sum is the sum of the derivatives we can compute the derivative for a single data point and then sum over data points. We can write the squared difference between the observed output and predicted output for a single point as follows:\n",
        "\n",
        "(w[0]\\*[CONSTANT] + w[1]\\*[feature_1] + ... + w[i] \\*[feature_i] + ... +  w[k]\\*[feature_k] - output)^2\n",
        "\n",
        "Where we have k features and a constant. So the derivative with respect to weight w[i] by the chain rule is:\n",
        "\n",
        "2\\*(w[0]\\*[CONSTANT] + w[1]\\*[feature_1] + ... + w[i] \\*[feature_i] + ... +  w[k]\\*[feature_k] - output)\\* [feature_i]\n",
        "\n",
        "The term inside the paranethesis is just the error (difference between prediction and output). So we can re-write this as:\n",
        "\n",
        "2\\*error\\*[feature_i]\n",
        "\n",
        "That is, the derivative for the weight for feature i is the sum (over data points) of 2 times the product of the error and the feature itself. In the case of the constant then this is just twice the sum of the errors!\n",
        "\n",
        "Recall that twice the sum of the product of two vectors is just twice the dot product of the two vectors. Therefore the derivative for the weight for feature_i is just two times the dot product between the values of feature_i and the current errors.\n",
        "\n",
        "With this in mind complete the following derivative function which computes the derivative of the weight given the value of the feature (over all data points) and the errors (over all data points)."
      ]
    },
    {
      "cell_type": "code",
      "execution_count": 13,
      "metadata": {
        "collapsed": true,
        "id": "V9VBPr2Mt5fe"
      },
      "outputs": [],
      "source": [
        "def feature_derivative(errors, feature):\n",
        "    derivative = 2 * np.dot(errors, feature)\n",
        "    return(derivative)"
      ]
    },
    {
      "cell_type": "markdown",
      "metadata": {
        "id": "9YuycZ4Rt5ff"
      },
      "source": [
        "To test your feature derivartive run the following:"
      ]
    },
    {
      "cell_type": "code",
      "execution_count": 14,
      "metadata": {
        "id": "FVrjuMK-t5fg",
        "colab": {
          "base_uri": "https://localhost:8080/"
        },
        "outputId": "529a880d-c22d-4e75-c996-b11b75690a93"
      },
      "outputs": [
        {
          "output_type": "stream",
          "name": "stdout",
          "text": [
            "-23345850016.0\n",
            "-23345850016.0\n"
          ]
        }
      ],
      "source": [
        "(example_features, example_output) = get_numpy_data(sales, ['sqft_living'], 'price')\n",
        "my_weights = np.array([0., 0.]) # this makes all the predictions 0\n",
        "test_predictions = predict_output(example_features, my_weights)\n",
        "# 2 numpy arrays can be elementwise subtracted with '-':\n",
        "errors = test_predictions - example_output # prediction errors in this case is just the -example_output\n",
        "feature = example_features[:,0] # let's compute the derivative with respect to 'constant', the \":\" indicates \"all rows\"\n",
        "derivative = feature_derivative(errors, feature)\n",
        "print(derivative)\n",
        "print(-np.sum(example_output)*2) # should be the same as derivative"
      ]
    },
    {
      "cell_type": "markdown",
      "metadata": {
        "id": "3x9RQJuqt5fh"
      },
      "source": [
        "# Gradient Descent"
      ]
    },
    {
      "cell_type": "markdown",
      "metadata": {
        "id": "HNMBqAwpt5fi"
      },
      "source": [
        "Now we will write a function that performs a gradient descent. The basic premise is simple. Given a starting point we update the current weights by moving in the negative gradient direction. Recall that the gradient is the direction of *increase* and therefore the negative gradient is the direction of *decrease* and we're trying to *minimize* a cost function.\n",
        "\n",
        "The amount by which we move in the negative gradient *direction*  is called the 'step size'. We stop when we are 'sufficiently close' to the optimum. We define this by requiring that the magnitude (length) of the gradient vector to be smaller than a fixed 'tolerance'.\n",
        "\n",
        "With this in mind, complete the following gradient descent function below using your derivative function above. For each step in the gradient descent we update the weight for each feature befofe computing our stopping criteria"
      ]
    },
    {
      "cell_type": "code",
      "execution_count": 15,
      "metadata": {
        "collapsed": true,
        "id": "1d7H9yJ8t5fi"
      },
      "outputs": [],
      "source": [
        "from math import sqrt"
      ]
    },
    {
      "cell_type": "code",
      "execution_count": 16,
      "metadata": {
        "id": "6yFSLovjt5fj"
      },
      "outputs": [],
      "source": [
        "def regression_gradient_descent(feature_matrix, output, initial_weights, step_size, tolerance):\n",
        "    converged = False\n",
        "    weights = np.array(initial_weights)\n",
        "    while not converged:\n",
        "\n",
        "        # compute the predictions based on feature_matrix and weights using your predict_output() function\n",
        "        predictions = predict_output(feature_matrix, weights)\n",
        "\n",
        "        # compute the errors\n",
        "        errors = predictions - output\n",
        "        gradient_sum_squares = 0 # initialize the gradient sum of squares\n",
        "\n",
        "        # while we haven't reached the tolerance yet, update each feature's weight\n",
        "        for i in range(len(weights)): # loop over each weight\n",
        "\n",
        "            # compute the derivative for weight[i]:\n",
        "            derivative = feature_derivative(errors, feature_matrix[:, i])\n",
        "\n",
        "            # add the squared value of the derivative to the gradient sum of squares (for assessing convergence)\n",
        "            gradient_sum_squares += derivative**2\n",
        "\n",
        "            # subtract the step size times the derivative from the current weight\n",
        "            weights[i] -= step_size * derivative\n",
        "\n",
        "        # compute the square-root of the gradient sum of squares to get the gradient magnitude:\n",
        "        gradient_magnitude = np.sqrt(gradient_sum_squares)\n",
        "\n",
        "        if gradient_magnitude < tolerance:\n",
        "            converged = True\n",
        "    return(weights)"
      ]
    },
    {
      "cell_type": "markdown",
      "metadata": {
        "id": "sq6MB6QRt5fk"
      },
      "source": [
        "A few things to note before we run the gradient descent. Since the gradient is a sum over all the data points and involves a product of an error and a feature the gradient itself will be very large since the features are large (squarefeet) and the output is large (prices). So while you might expect \"tolerance\" to be small, small is only relative to the size of the features.\n",
        "\n",
        "For similar reasons the step size will be much smaller than you might expect but this is because the gradient has such large values."
      ]
    },
    {
      "cell_type": "markdown",
      "metadata": {
        "id": "AquVZqBzt5fk"
      },
      "source": [
        "# Running the Gradient Descent as Simple Regression"
      ]
    },
    {
      "cell_type": "markdown",
      "metadata": {
        "id": "Tr-hUVM2t5fk"
      },
      "source": [
        "First let's split the data into training and test data."
      ]
    },
    {
      "cell_type": "code",
      "execution_count": 17,
      "metadata": {
        "id": "9joRgZt_t5fl"
      },
      "outputs": [],
      "source": [
        "from sklearn.model_selection import train_test_split\n",
        "train_data,test_data = train_test_split(sales, test_size = 0.8,random_state=0)"
      ]
    },
    {
      "cell_type": "markdown",
      "metadata": {
        "id": "JrZC80wot5fl"
      },
      "source": [
        "Although the gradient descent is designed for multiple regression since the constant is now a feature we can use the gradient descent function to estimat the parameters in the simple regression on squarefeet. The folowing cell sets up the feature_matrix, output, initial weights and step size for the first model:"
      ]
    },
    {
      "cell_type": "code",
      "execution_count": 18,
      "metadata": {
        "id": "EQD6u8I-t5fm"
      },
      "outputs": [],
      "source": [
        "# let's test out the gradient descent\n",
        "simple_features = ['sqft_living']\n",
        "my_output = 'price'\n",
        "(simple_feature_matrix, output) = get_numpy_data(train_data, simple_features, my_output)\n",
        "initial_weights = np.array([-47000., 1.])\n",
        "step_size = 7e-12\n",
        "tolerance = 2.5e7"
      ]
    },
    {
      "cell_type": "markdown",
      "metadata": {
        "id": "fPZSX9V2t5fm"
      },
      "source": [
        "Next run your gradient descent with the above parameters."
      ]
    },
    {
      "cell_type": "code",
      "execution_count": 19,
      "metadata": {
        "id": "33uUPmRWt5fn",
        "colab": {
          "base_uri": "https://localhost:8080/"
        },
        "outputId": "604c09b5-538f-4171-beb9-453da75e3894"
      },
      "outputs": [
        {
          "output_type": "execute_result",
          "data": {
            "text/plain": [
              "(np.float64(-46999.880188463605), np.float64(280.5100501255281))"
            ]
          },
          "metadata": {},
          "execution_count": 19
        }
      ],
      "source": [
        "(intercept, slope) = regression_gradient_descent(simple_feature_matrix, output, initial_weights, step_size, tolerance)\n",
        "\n",
        "intercept, slope"
      ]
    },
    {
      "cell_type": "markdown",
      "metadata": {
        "id": "Uf9rhB1ut5fn"
      },
      "source": [
        "How do your weights compare to those achieved in week 1 (don't expect them to be exactly the same)?\n",
        "\n",
        "**Quiz Question: What is the value of the weight for sqft_living -- the second element of ‘simple_weights’ (rounded to 1 decimal place)?**"
      ]
    },
    {
      "cell_type": "code",
      "source": [
        "print(slope.round(1))"
      ],
      "metadata": {
        "colab": {
          "base_uri": "https://localhost:8080/"
        },
        "id": "45TWUGJgI48V",
        "outputId": "17e007b2-5dd5-40b9-bd87-bc786c1100c1"
      },
      "execution_count": 20,
      "outputs": [
        {
          "output_type": "stream",
          "name": "stdout",
          "text": [
            "280.5\n"
          ]
        }
      ]
    },
    {
      "cell_type": "markdown",
      "metadata": {
        "id": "ZP3403ext5fo"
      },
      "source": [
        "Use your newly estimated weights and your predict_output() function to compute the predictions on all the TEST data (you will need to create a numpy array of the test feature_matrix and test output first:"
      ]
    },
    {
      "cell_type": "code",
      "execution_count": 21,
      "metadata": {
        "id": "dn3wRoZ-t5fo"
      },
      "outputs": [],
      "source": [
        "(test_simple_feature_matrix, test_output) = get_numpy_data(test_data, simple_features, my_output)"
      ]
    },
    {
      "cell_type": "markdown",
      "metadata": {
        "id": "iSHrSwCWt5fp"
      },
      "source": [
        "Now compute your predictions using test_simple_feature_matrix and your weights from above."
      ]
    },
    {
      "cell_type": "code",
      "execution_count": 22,
      "metadata": {
        "collapsed": true,
        "id": "CUUJd8oIt5fp"
      },
      "outputs": [],
      "source": [
        "simple_weights = np.array([intercept, slope])\n",
        "test_predictions = predict_output(test_simple_feature_matrix, simple_weights)\n",
        "# prediction_test = intercept + slope * test_simple_feature_matrix[:, 1]\n",
        "# prediction_test = np.dot(test_simple_feature_matrix, np.array([intercept, slope]))"
      ]
    },
    {
      "cell_type": "markdown",
      "metadata": {
        "id": "K_1h7CsVt5fp"
      },
      "source": [
        "**Quiz Question: What is the predicted price for the 1st house in the TEST data set for model 1 (round to nearest dollar)?**"
      ]
    },
    {
      "cell_type": "code",
      "execution_count": 23,
      "metadata": {
        "id": "Z1Zd0ZKet5fq",
        "colab": {
          "base_uri": "https://localhost:8080/"
        },
        "outputId": "b4fa8e6e-6eb1-4a4d-bc16-f4bee5ab1065"
      },
      "outputs": [
        {
          "output_type": "stream",
          "name": "stdout",
          "text": [
            "354129.0\n"
          ]
        }
      ],
      "source": [
        "print(test_predictions[0].round(0))"
      ]
    },
    {
      "cell_type": "markdown",
      "metadata": {
        "id": "D7znyV5Bt5fq"
      },
      "source": [
        "Now that you have the predictions on test data, compute the RSS on the test data set. Save this value for comparison later. Recall that RSS is the sum of the squared errors (difference between prediction and output)."
      ]
    },
    {
      "cell_type": "code",
      "execution_count": 24,
      "metadata": {
        "id": "YU8wvYKyt5fq",
        "colab": {
          "base_uri": "https://localhost:8080/"
        },
        "outputId": "79592a4e-6212-42d5-a863-5d7f71c01779"
      },
      "outputs": [
        {
          "output_type": "stream",
          "name": "stdout",
          "text": [
            "RSS on test data: 1203844519440140.0\n"
          ]
        }
      ],
      "source": [
        "residuals = test_output - test_predictions\n",
        "RSS_test = (residuals ** 2).sum()\n",
        "\n",
        "print(\"RSS on test data:\", RSS_test)"
      ]
    },
    {
      "cell_type": "code",
      "source": [
        "import matplotlib.pyplot as plt\n",
        "\n",
        "train_predictions = predict_output(simple_feature_matrix, simple_weights)\n",
        "\n",
        "# Графік для тренувальних даних\n",
        "plt.figure(figsize=(10,5))\n",
        "plt.plot(simple_feature_matrix[:,1], output, 'b.', label='Training data')  # реальні дані\n",
        "plt.plot(simple_feature_matrix[:,1], train_predictions, 'r-', label='Model (train fit)')\n",
        "plt.xlabel('sqft_living')\n",
        "plt.ylabel('price')\n",
        "plt.title('Training data and fitted line')\n",
        "plt.legend()\n",
        "plt.show()\n",
        "\n",
        "# Графік для тестових даних\n",
        "plt.figure(figsize=(10,5))\n",
        "plt.plot(test_simple_feature_matrix[:,1], test_output, 'g.', label='Test data')  # реальні тестові дані\n",
        "plt.plot(test_simple_feature_matrix[:,1], test_predictions, 'r-', label='Model (prediction)')\n",
        "plt.xlabel('sqft_living')\n",
        "plt.ylabel('price')\n",
        "plt.title('Test data and model prediction')\n",
        "plt.legend()\n",
        "plt.show()\n"
      ],
      "metadata": {
        "colab": {
          "base_uri": "https://localhost:8080/",
          "height": 957
        },
        "id": "iWCDq61sMyZA",
        "outputId": "3fcdac3a-9c90-411c-e592-10b011f7132b"
      },
      "execution_count": 25,
      "outputs": [
        {
          "output_type": "display_data",
          "data": {
            "text/plain": [
              "<Figure size 1000x500 with 1 Axes>"
            ],
            "image/png": "[encoded data removed]"
          },
          "metadata": {}
        },
        {
          "output_type": "display_data",
          "data": {
            "text/plain": [
              "<Figure size 1000x500 with 1 Axes>"
            ],
            "image/png": "[encoded data removed]"
          },
          "metadata": {}
        }
      ]
    },
    {
      "cell_type": "markdown",
      "metadata": {
        "id": "2Uvzmuont5fr"
      },
      "source": [
        "# Running a multiple regression"
      ]
    },
    {
      "cell_type": "markdown",
      "metadata": {
        "id": "3CnLKboCt5fr"
      },
      "source": [
        "Now we will use more than one actual feature. Use the following code to produce the weights for a second model with the following parameters:"
      ]
    },
    {
      "cell_type": "code",
      "execution_count": 26,
      "metadata": {
        "id": "sW3P7IsYt5fr"
      },
      "outputs": [],
      "source": [
        "model_features_mr = ['sqft_living', 'sqft_living15'] # sqft_living15 is the average squarefeet for the nearest 15 neighbors.\n",
        "my_output = 'price'\n",
        "(feature_matrix_mr, output_mr) = get_numpy_data(train_data, model_features_mr, my_output)\n",
        "initial_weights_mr = np.array([-100000., 1., 1.])\n",
        "step_size_mr = 4e-12\n",
        "tolerance_mr = 1e9"
      ]
    },
    {
      "cell_type": "markdown",
      "metadata": {
        "id": "KFYdKzHmt5fs"
      },
      "source": [
        "Use the above parameters to estimate the model weights. Record these values for your quiz."
      ]
    },
    {
      "cell_type": "code",
      "execution_count": 27,
      "metadata": {
        "id": "LUTDhFSMt5ft"
      },
      "outputs": [],
      "source": [
        "weights = regression_gradient_descent(feature_matrix_mr, output_mr, initial_weights_mr, step_size_mr, tolerance_mr)"
      ]
    },
    {
      "cell_type": "markdown",
      "metadata": {
        "id": "o6Fg8jdLt5fu"
      },
      "source": [
        "Use your newly estimated weights and the predict_output function to compute the predictions on the TEST data. Don't forget to create a numpy array for these features from the test set first!"
      ]
    },
    {
      "cell_type": "code",
      "execution_count": 28,
      "metadata": {
        "id": "Gf9bEhLtt5fu"
      },
      "outputs": [],
      "source": [
        "(test_feature_matrix_mr, test_output) = get_numpy_data(test_data, model_features_mr, my_output)\n",
        "test_predictions_mr = predict_output(test_feature_matrix_mr, weights)"
      ]
    },
    {
      "cell_type": "markdown",
      "metadata": {
        "id": "xw92lmhAt5fv"
      },
      "source": [
        "**Quiz Question: What is the predicted price for the 1st house in the TEST data set for model 2 (round to nearest dollar)?**"
      ]
    },
    {
      "cell_type": "code",
      "execution_count": 29,
      "metadata": {
        "id": "mtQ76JADt5fw",
        "colab": {
          "base_uri": "https://localhost:8080/"
        },
        "outputId": "f6154998-492b-4a1f-dd9c-3eae45a6717e"
      },
      "outputs": [
        {
          "output_type": "stream",
          "name": "stdout",
          "text": [
            "342008.0\n"
          ]
        }
      ],
      "source": [
        "print(test_predictions_mr[0].round(0))"
      ]
    },
    {
      "cell_type": "markdown",
      "metadata": {
        "id": "0_t-qWn5t5fw"
      },
      "source": [
        "What is the actual price for the 1st house in the test data set?"
      ]
    },
    {
      "cell_type": "code",
      "execution_count": 30,
      "metadata": {
        "id": "PdOxin4Kt5fx",
        "colab": {
          "base_uri": "https://localhost:8080/"
        },
        "outputId": "3ba36904-d737-46a9-f0df-253828ceebed"
      },
      "outputs": [
        {
          "output_type": "stream",
          "name": "stdout",
          "text": [
            "297000.0\n"
          ]
        }
      ],
      "source": [
        "print(test_output[0])"
      ]
    },
    {
      "cell_type": "markdown",
      "metadata": {
        "id": "VwIc2eUpt5fx"
      },
      "source": [
        "**Quiz Question: Which estimate was closer to the true price for the 1st house on the TEST data set, model 1 or model 2?**"
      ]
    },
    {
      "cell_type": "code",
      "source": [
        "print('actual price       ', test_output[0])\n",
        "print('TEST data model 1: ', test_predictions[0].round(0))\n",
        "print('TEST data model 2: ', test_predictions_mr[0].round(0))"
      ],
      "metadata": {
        "colab": {
          "base_uri": "https://localhost:8080/"
        },
        "id": "ENrLlKpIU-CW",
        "outputId": "757e59a0-dd02-4868-93ef-7a81e3ee67ac"
      },
      "execution_count": 31,
      "outputs": [
        {
          "output_type": "stream",
          "name": "stdout",
          "text": [
            "actual price        297000.0\n",
            "TEST data model 1:  354129.0\n",
            "TEST data model 2:  342008.0\n"
          ]
        }
      ]
    },
    {
      "cell_type": "markdown",
      "metadata": {
        "id": "QOT_oy8At5fy"
      },
      "source": [
        "Now use your predictions and the output to compute the RSS for model 2 on TEST data."
      ]
    },
    {
      "cell_type": "code",
      "execution_count": 32,
      "metadata": {
        "id": "l0Lad1Adt5fy",
        "colab": {
          "base_uri": "https://localhost:8080/"
        },
        "outputId": "4e88329b-7e55-4506-a563-1193e383ec73"
      },
      "outputs": [
        {
          "output_type": "stream",
          "name": "stdout",
          "text": [
            "RSS on test data: 1186047263989195.2\n"
          ]
        }
      ],
      "source": [
        "residuals_mr = test_output - test_predictions_mr\n",
        "RSS_test_mr = (residuals_mr ** 2).sum()\n",
        "\n",
        "print(\"RSS on test data:\", RSS_test_mr)"
      ]
    },
    {
      "cell_type": "markdown",
      "metadata": {
        "id": "fbc3qUzit5fy"
      },
      "source": [
        "**Quiz Question: Which model (1 or 2) has lowest RSS on all of the TEST data? **"
      ]
    },
    {
      "cell_type": "code",
      "execution_count": 33,
      "metadata": {
        "collapsed": true,
        "id": "SoY59c_Pt5fy",
        "colab": {
          "base_uri": "https://localhost:8080/"
        },
        "outputId": "f623bd18-3627-4e8a-9e4d-4aa6e3b346a2"
      },
      "outputs": [
        {
          "output_type": "stream",
          "name": "stdout",
          "text": [
            "RSS on test data simple model:    1203844519440140.0\n",
            "RSS on test data multiple model:  1186047263989195.2\n"
          ]
        }
      ],
      "source": [
        "print(\"RSS on test data simple model:   \", RSS_test)\n",
        "print(\"RSS on test data multiple model: \", RSS_test_mr)"
      ]
    },
    {
      "cell_type": "markdown",
      "source": [
        "# Multiple regression using the top 5 features selected from the correlation matrix."
      ],
      "metadata": {
        "id": "JBKhSDd5aoVA"
      }
    },
    {
      "cell_type": "code",
      "source": [
        "model_features_mr5 = ['sqft_living', 'grade', 'sqft_above', 'sqft_living15', 'bathrooms']\n",
        "my_output = 'price'\n",
        "(feature_matrix_mr5, output_mr5) = get_numpy_data(train_data, model_features_mr5, my_output)\n",
        "initial_weights_mr5 = np.array([-100000., 1., 1., 1., 1., 1])\n",
        "step_size_mr5 = 4e-12\n",
        "tolerance_mr5 = 1e9"
      ],
      "metadata": {
        "id": "5kXK_mSRWevW"
      },
      "execution_count": 34,
      "outputs": []
    },
    {
      "cell_type": "code",
      "source": [
        "weights5 = regression_gradient_descent(feature_matrix_mr5, output_mr5, initial_weights_mr5, step_size_mr5, tolerance_mr5)"
      ],
      "metadata": {
        "id": "xIGP42MrXGJf"
      },
      "execution_count": 35,
      "outputs": []
    },
    {
      "cell_type": "code",
      "source": [
        "(test_feature_matrix_mr5, test_output) = get_numpy_data(test_data, model_features_mr5, my_output)\n",
        "test_predictions_mr5 = predict_output(test_feature_matrix_mr5, weights5)"
      ],
      "metadata": {
        "id": "jb39DQpsXLIf"
      },
      "execution_count": 36,
      "outputs": []
    },
    {
      "cell_type": "code",
      "source": [
        "residuals_mr5 = test_output - test_predictions_mr5\n",
        "RSS_test_mr5 = (residuals_mr5 ** 2).sum()\n",
        "\n",
        "print(\"RSS on test data:\", RSS_test_mr5)"
      ],
      "metadata": {
        "colab": {
          "base_uri": "https://localhost:8080/"
        },
        "id": "SlRvne00aVg_",
        "outputId": "5c02b610-5e7c-4aeb-f797-a1dce10a08ed"
      },
      "execution_count": 37,
      "outputs": [
        {
          "output_type": "stream",
          "name": "stdout",
          "text": [
            "RSS on test data: 1182420660297198.8\n"
          ]
        }
      ]
    },
    {
      "cell_type": "code",
      "source": [
        "print('actual price       ', test_output[0])\n",
        "print('TEST data model 1: ', test_predictions[0].round(0))\n",
        "print('TEST data model 2: ', test_predictions_mr[0].round(0))\n",
        "print('TEST data model 5: ', test_predictions_mr5[0].round(0))"
      ],
      "metadata": {
        "colab": {
          "base_uri": "https://localhost:8080/"
        },
        "id": "PQL4hUbIaICi",
        "outputId": "21eae043-7fb0-44ad-a413-38494b6c08e0"
      },
      "execution_count": 38,
      "outputs": [
        {
          "output_type": "stream",
          "name": "stdout",
          "text": [
            "actual price        297000.0\n",
            "TEST data model 1:  354129.0\n",
            "TEST data model 2:  342008.0\n",
            "TEST data model 5:  335159.0\n"
          ]
        }
      ]
    },
    {
      "cell_type": "markdown",
      "source": [
        "**Висновки:**\n",
        "\n",
        "Зі збільшенням кількості ознак, значення RSS зменшується. Оскільки RSS - це сума квадратів усіх відхилень передбачень від реального значення цільової змінної, то більш інформативними були б метрики RMSE або R2.\n",
        "\n",
        "\n",
        "Додавання ознак поступово покращує точність моделей.\n",
        "\n",
        "Для кращого прогнозування варто включати більше значущих змінних.\n"
      ],
      "metadata": {
        "id": "mkrJkSWLnlFr"
      }
    }
  ],
  "metadata": {
    "kernelspec": {
      "display_name": "Python 2",
      "language": "python",
      "name": "python2"
    },
    "language_info": {
      "codemirror_mode": {
        "name": "ipython",
        "version": 2
      },
      "file_extension": ".py",
      "mimetype": "text/x-python",
      "name": "python",
      "nbconvert_exporter": "python",
      "pygments_lexer": "ipython2",
      "version": "2.7.13"
    },
    "colab": {
      "provenance": []
    }
  },
  "nbformat": 4,
  "nbformat_minor": 0
}